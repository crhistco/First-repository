{
 "cells": [
  {
   "cell_type": "markdown",
   "id": "538f813f-b59c-41ed-b524-43427e86cac3",
   "metadata": {},
   "source": [
    "# Final assignment"
   ]
  },
  {
   "cell_type": "markdown",
   "id": "a21b3aad-1ee1-4ee9-bf8a-a93e94504510",
   "metadata": {},
   "source": [
    "# Data Science Tools and Ecosystem"
   ]
  },
  {
   "cell_type": "markdown",
   "id": "24905ff7-5809-46fe-9fc8-1f8973103353",
   "metadata": {},
   "source": [
    "In this notebook, Data Science Tools and Ecosystem are summarized"
   ]
  },
  {
   "cell_type": "markdown",
   "id": "9ef98b11-45af-41de-b6f2-11c6527507f1",
   "metadata": {},
   "source": [
    "**Objectives:**\n",
    "\n",
    "* List popular languages for Data Science.\n",
    "* List development environment open source tools used in data science\n",
    "* List Data sciences tools\n",
    "* Evaluated arithmetic expressions in Python\n"
   ]
  },
  {
   "cell_type": "markdown",
   "id": "a671ec85-b4ef-44b6-a259-47a853941633",
   "metadata": {},
   "source": [
    "Some of the popular languages that Data Scientists use are:\n",
    "1. Python\n",
    "2. R\n",
    "3. Julia\n",
    "4. Java"
   ]
  },
  {
   "attachments": {},
   "cell_type": "markdown",
   "id": "687c092d-8d65-4ec4-9ffd-52ea40b75f80",
   "metadata": {},
   "source": [
    "Some of the commonly used libraries used by Data Scientists include:\n",
    "\n",
    "1. Matplotlib\n",
    "2. Pandas\n",
    "3. TensorFlow\n",
    "4. Scikit-learn"
   ]
  },
  {
   "cell_type": "markdown",
   "id": "0ebd7280-a9c0-45bd-8e64-78c914463c0a",
   "metadata": {},
   "source": [
    "|Data Sciences Tools|\n",
    "---------------------\n",
    "|Jupyter Notebook|\n",
    "|VS Code|\n",
    "|Jupyter Lab|"
   ]
  },
  {
   "cell_type": "markdown",
   "id": "8ffab4ba-4b69-403f-861c-fc191da4c11d",
   "metadata": {},
   "source": [
    "### Below are a few examples of evaluating arithmetic expressions in Python"
   ]
  },
  {
   "cell_type": "code",
   "execution_count": 55,
   "id": "7f2c92c0-86c7-46d7-8ccb-a1acd47d8c7e",
   "metadata": {},
   "outputs": [
    {
     "data": {
      "text/plain": [
       "17"
      ]
     },
     "execution_count": 55,
     "metadata": {},
     "output_type": "execute_result"
    }
   ],
   "source": [
    "# This a simple arithmetic expression to mutiply then add integers\n",
    "(3*4)+5"
   ]
  },
  {
   "cell_type": "code",
   "execution_count": 57,
   "id": "0c3b8c9f-d4b0-45a6-a4ba-e6c77afd29de",
   "metadata": {},
   "outputs": [
    {
     "data": {
      "text/plain": [
       "3.3333333333333335"
      ]
     },
     "execution_count": 57,
     "metadata": {},
     "output_type": "execute_result"
    }
   ],
   "source": [
    "# This will convert 200 minutes to hours by diving by 60\n",
    "200/60"
   ]
  },
  {
   "cell_type": "markdown",
   "id": "89adb569-fa0e-434c-8075-01e3c470c849",
   "metadata": {},
   "source": [
    "## Autor\n",
    "Crhistian Cedeño"
   ]
  }
 ],
 "metadata": {
  "kernelspec": {
   "display_name": "Python 3 (ipykernel)",
   "language": "python",
   "name": "python3"
  },
  "language_info": {
   "codemirror_mode": {
    "name": "ipython",
    "version": 3
   },
   "file_extension": ".py",
   "mimetype": "text/x-python",
   "name": "python",
   "nbconvert_exporter": "python",
   "pygments_lexer": "ipython3",
   "version": "3.11.7"
  }
 },
 "nbformat": 4,
 "nbformat_minor": 5
}
